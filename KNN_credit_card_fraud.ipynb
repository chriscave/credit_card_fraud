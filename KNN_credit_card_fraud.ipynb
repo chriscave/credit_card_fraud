{
 "cells": [
  {
   "cell_type": "code",
   "execution_count": 1,
   "metadata": {},
   "outputs": [],
   "source": [
    "import numpy as np\n",
    "import pandas as pd\n",
    "from sklearn.neighbors import KNeighborsClassifier\n",
    "from sklearn.linear_model import LogisticRegression\n",
    "\n",
    "from sklearn.preprocessing import StandardScaler\n",
    "import matplotlib.pyplot as plt\n",
    "from sklearn.metrics import precision_recall_curve\n",
    "from sklearn.metrics import average_precision_score\n",
    "from sklearn.metrics import auc\n",
    "from sklearn.metrics import roc_auc_score\n",
    "from sklearn.metrics import recall_score\n",
    "from sklearn.model_selection import StratifiedShuffleSplit\n",
    "\n",
    "from sklearn import model_selection\n",
    "\n",
    "\n",
    "from sklearn.model_selection import StratifiedKFold\n"
   ]
  },
  {
   "cell_type": "code",
   "execution_count": 2,
   "metadata": {},
   "outputs": [],
   "source": [
    "df = pd.read_csv('/home/chris/Documents/Datasets/creditcard.csv')"
   ]
  },
  {
   "cell_type": "code",
   "execution_count": 3,
   "metadata": {},
   "outputs": [],
   "source": [
    "split = StratifiedShuffleSplit(n_splits=1, test_size=0.2, random_state=42)\n",
    "for train_index, test_index in split.split(df, df[\"Class\"]):\n",
    "    train_set = df.loc[train_index]\n",
    "    test_set = df.loc[test_index]\n",
    "\n",
    "train_set = train_set.reset_index(drop = True)\n",
    "credit_card = train_set.copy()\n",
    "\n",
    "splitcv = StratifiedShuffleSplit(n_splits=1, test_size=0.25, random_state=43)\n",
    "for train_index, cv_index in splitcv.split(credit_card, credit_card[\"Class\"]):\n",
    "    train60_set = credit_card.loc[train_index]\n",
    "    cv_set = credit_card.loc[cv_index]\n",
    "    \n",
    "train60_set = train60_set.reset_index(drop = True)\n",
    "cv_set = cv_set.reset_index(drop = True)\n",
    "credit_card60 = train60_set.copy()\n",
    "credit_card_cv = cv_set.copy()"
   ]
  },
  {
   "cell_type": "code",
   "execution_count": 4,
   "metadata": {},
   "outputs": [],
   "source": [
    "m,n = credit_card.shape\n",
    "X_train = credit_card.iloc[:,0:(n-1)]\n",
    "y_train = credit_card.iloc[:,n-1]\n",
    "\n",
    "data = X_train\n",
    "scaler = StandardScaler()\n",
    "scaler.fit(data)\n",
    "X_train_scaled = scaler.transform(data)"
   ]
  },
  {
   "cell_type": "code",
   "execution_count": 5,
   "metadata": {},
   "outputs": [
    {
     "name": "stdout",
     "output_type": "stream",
     "text": [
      "KNN=3: 0.786419 (0.020771)\n",
      "KNN=5: 0.791952 (0.027219)\n",
      "KNN=8: 0.795798 (0.025369)\n"
     ]
    }
   ],
   "source": [
    "models = []\n",
    "models.append(('KNN=3', KNeighborsClassifier(n_neighbors=3)))\n",
    "models.append(('KNN=5', KNeighborsClassifier(n_neighbors=5)))\n",
    "models.append(('KNN=8', KNeighborsClassifier(n_neighbors=8)))\n",
    "#models.append(('CART', DecisionTreeClassifier())) takes too long\n",
    "#models.append(('NB', GaussianNB()))\n",
    "#models.append(('SVM', SVC())) takes too long\n",
    "# evaluate each model in turn\n",
    "results = []\n",
    "names = []\n",
    "for name, model in models:\n",
    "    kfold = StratifiedKFold(n_splits=4)\n",
    "    cv_results = model_selection.cross_val_score(model, X_train_scaled, y_train, cv=kfold,\n",
    "                                                 scoring='average_precision')\n",
    "    results.append(cv_results)\n",
    "    names.append(name)\n",
    "    msg = \"%s: %f (%f)\" % (name, cv_results.mean(), cv_results.std())\n",
    "    print(msg)"
   ]
  },
  {
   "cell_type": "code",
   "execution_count": 6,
   "metadata": {},
   "outputs": [
    {
     "name": "stdout",
     "output_type": "stream",
     "text": [
      "KNN=3p=1: 0.798618 (0.019882)\n",
      "KNN=5p=1: 0.796730 (0.024835)\n",
      "KNN=8p=1: 0.795295 (0.024471)\n"
     ]
    }
   ],
   "source": [
    "models = []\n",
    "models.append(('KNN=3p=1', KNeighborsClassifier(n_neighbors=3, p=1)))\n",
    "models.append(('KNN=5p=1', KNeighborsClassifier(n_neighbors=5, p=1)))\n",
    "models.append(('KNN=8p=1', KNeighborsClassifier(n_neighbors=8, p=1)))\n",
    "results = []\n",
    "names = []\n",
    "for name, model in models:\n",
    "    kfold = StratifiedKFold(n_splits=4)\n",
    "    cv_results = model_selection.cross_val_score(model, X_train_scaled, y_train, cv=kfold,\n",
    "                                                 scoring='average_precision')\n",
    "    results.append(cv_results)\n",
    "    names.append(name)\n",
    "    msg = \"%s: %f (%f)\" % (name, cv_results.mean(), cv_results.std())\n",
    "    print(msg)"
   ]
  },
  {
   "cell_type": "code",
   "execution_count": 6,
   "metadata": {},
   "outputs": [],
   "source": [
    "m,n = credit_card60.shape\n",
    "X_train60 = credit_card60.iloc[:,0:(n-1)]\n",
    "y_train60 = credit_card60.iloc[:,n-1]\n",
    "X_cv = credit_card_cv.iloc[:,0:(n-1)]\n",
    "y_cv = credit_card_cv.iloc[:,n-1]\n",
    "\n",
    "data = X_train60\n",
    "scaler = StandardScaler()\n",
    "scaler.fit(data)\n",
    "X_train60_scaled = scaler.transform(data)\n",
    "\n",
    "data = X_cv\n",
    "scaler = StandardScaler()\n",
    "scaler.fit(data)\n",
    "X_cv_scaled = scaler.transform(data)"
   ]
  },
  {
   "cell_type": "code",
   "execution_count": 8,
   "metadata": {},
   "outputs": [],
   "source": [
    "KNNclf = KNeighborsClassifier(n_neighbors=3, p=1) #use best parameters here\n",
    "KNNclf.fit(X_train60_scaled,y_train60)\n",
    "y_cv_pred_prob = KNNclf.predict_proba(X_cv_scaled)\n"
   ]
  },
  {
   "cell_type": "code",
   "execution_count": 10,
   "metadata": {},
   "outputs": [
    {
     "data": {
      "text/plain": [
       "Text(0.5,1,'2-class Precision-Recall curve: AUC=0.89')"
      ]
     },
     "execution_count": 10,
     "metadata": {},
     "output_type": "execute_result"
    },
    {
     "data": {
      "image/png": "[encoded data removed]",
      "text/plain": [
       "<Figure size 432x288 with 1 Axes>"
      ]
     },
     "metadata": {},
     "output_type": "display_data"
    }
   ],
   "source": [
    "precision, recall, threshold = precision_recall_curve(y_cv, y_cv_pred_prob[:,1])\n",
    "area_under_curve = auc(recall,precision)\n",
    "\n",
    "plt.step(recall, precision, color='b', alpha=0.2, where='post')\n",
    "plt.fill_between(recall, precision, step='post', alpha=0.2, color='b')\n",
    "\n",
    "plt.xlabel('Recall')\n",
    "plt.ylabel('Precision')\n",
    "plt.ylim([0.0, 1.05])\n",
    "plt.xlim([0.0, 1.0])\n",
    "plt.title('2-class Precision-Recall curve: AUC={0:0.2f}'.format(\n",
    "          area_under_curve))"
   ]
  },
  {
   "cell_type": "code",
   "execution_count": 11,
   "metadata": {},
   "outputs": [
    {
     "name": "stdout",
     "output_type": "stream",
     "text": [
      "[0.001738   0.71428571 0.95121951 1.         1.        ] [1.         0.85858586 0.78787879 0.66666667 0.        ] [0.         0.33333333 0.66666667 1.        ]\n"
     ]
    }
   ],
   "source": [
    "print(precision, recall, threshold)"
   ]
  },
  {
   "cell_type": "code",
   "execution_count": 7,
   "metadata": {},
   "outputs": [],
   "source": [
    "from imblearn.under_sampling import CondensedNearestNeighbour\n",
    "cnn = CondensedNearestNeighbour(random_state=42)\n",
    "X_train60_scaled_resampled, y_train60_resampled = cnn.fit_sample(X_train60_scaled, y_train60)"
   ]
  },
  {
   "cell_type": "code",
   "execution_count": 8,
   "metadata": {},
   "outputs": [
    {
     "data": {
      "text/plain": [
       "(1150, 30)"
      ]
     },
     "execution_count": 8,
     "metadata": {},
     "output_type": "execute_result"
    }
   ],
   "source": [
    "X_train60_scaled_resampled.shape"
   ]
  },
  {
   "cell_type": "code",
   "execution_count": 19,
   "metadata": {},
   "outputs": [
    {
     "data": {
      "text/plain": [
       "array([-0.11832264, -0.23782891,  0.09282648, -0.15499859, -0.68273855,\n",
       "        1.34318681,  1.11327093,  0.83359515,  0.03380977,  0.35209188,\n",
       "        0.43018706,  1.45771726,  1.10283356,  0.20637267, -0.25558285,\n",
       "       -0.24237139, -1.54096944,  0.21038567, -2.59976624, -1.41754509,\n",
       "        0.02023391, -0.28251622,  0.38805645,  0.69216932, -3.03169737,\n",
       "       -1.70738748,  0.50788651,  0.02435773, -0.8377755 , -0.20139296])"
      ]
     },
     "execution_count": 19,
     "metadata": {},
     "output_type": "execute_result"
    }
   ],
   "source": [
    "X_train60_scaled_resampled[0]"
   ]
  },
  {
   "cell_type": "code",
   "execution_count": 20,
   "metadata": {},
   "outputs": [
    {
     "data": {
      "text/plain": [
       "Counter({0: 855, 1: 295})"
      ]
     },
     "execution_count": 20,
     "metadata": {},
     "output_type": "execute_result"
    }
   ],
   "source": [
    "import collections\n",
    "\n",
    "collections.Counter(y_train60_resampled)"
   ]
  },
  {
   "cell_type": "code",
   "execution_count": 21,
   "metadata": {},
   "outputs": [],
   "source": [
    "np.savetxt(\"/home/chris/Documents/ml/credit-card-fraud/cnntrain60.csv\",X_train60_scaled_resampled,delimiter=\",\")"
   ]
  },
  {
   "cell_type": "code",
   "execution_count": 10,
   "metadata": {},
   "outputs": [],
   "source": [
    "np.savetxt(\"/home/chris/Documents/ml/credit-card-fraud/cnnlabel60.csv\",y_train60_resampled,delimiter=\",\")"
   ]
  },
  {
   "cell_type": "code",
   "execution_count": 11,
   "metadata": {},
   "outputs": [
    {
     "data": {
      "text/plain": [
       "GridSearchCV(cv=4, error_score='raise',\n",
       "       estimator=KNeighborsClassifier(algorithm='auto', leaf_size=30, metric='minkowski',\n",
       "           metric_params=None, n_jobs=1, n_neighbors=5, p=2,\n",
       "           weights='uniform'),\n",
       "       fit_params=None, iid=True, n_jobs=1,\n",
       "       param_grid=[{'n_neighbors': [3, 5, 8, 10, 12, 15], 'p': [1, 2]}],\n",
       "       pre_dispatch='2*n_jobs', refit=True, return_train_score='warn',\n",
       "       scoring='average_precision', verbose=0)"
      ]
     },
     "execution_count": 11,
     "metadata": {},
     "output_type": "execute_result"
    }
   ],
   "source": [
    "from sklearn.model_selection import GridSearchCV\n",
    "\n",
    "param_grid = [\n",
    "    {'n_neighbors':[3,5,8,10,12,15], 'p':[1,2] }\n",
    "]\n",
    "KNN = KNeighborsClassifier()\n",
    "grid_search = GridSearchCV(KNN, param_grid,scoring = 'average_precision' ,cv = 4,)\n",
    "grid_search.fit(X_train60_scaled_resampled, y_train60_resampled)"
   ]
  },
  {
   "cell_type": "code",
   "execution_count": 12,
   "metadata": {},
   "outputs": [
    {
     "data": {
      "text/plain": [
       "({'n_neighbors': 15, 'p': 2}, 0.8427733622159077)"
      ]
     },
     "execution_count": 12,
     "metadata": {},
     "output_type": "execute_result"
    }
   ],
   "source": [
    "grid_search.best_params_, grid_search.best_score_"
   ]
  },
  {
   "cell_type": "code",
   "execution_count": 18,
   "metadata": {},
   "outputs": [
    {
     "name": "stdout",
     "output_type": "stream",
     "text": [
      "0.8361794126509993\n"
     ]
    },
    {
     "data": {
      "image/png": "[encoded data removed]",
      "text/plain": [
       "<Figure size 432x288 with 1 Axes>"
      ]
     },
     "metadata": {},
     "output_type": "display_data"
    }
   ],
   "source": [
    "KNN = KNeighborsClassifier(n_neighbors=8, p=1) #use best parameters here\n",
    "KNN.fit(X_train60_scaled_resampled,y_train60_resampled)\n",
    "\n",
    "y_cv_pred_prob = KNN.predict_proba(X_cv_scaled)[:,1]\n",
    "precision, recall, _ = precision_recall_curve(y_cv, y_cv_pred_prob)\n",
    "area_under_curve = auc(recall,precision)\n",
    "\n",
    "\n",
    "plt.step(recall, precision, color='b', alpha=0.2, where='post')\n",
    "plt.fill_between(recall, precision, step='post', alpha=0.2, color='b')\n",
    "\n",
    "\n",
    "plt.xlabel('Recall')\n",
    "plt.ylabel('Precision')\n",
    "plt.ylim([0.0, 1.05])\n",
    "plt.xlim([0.0, 1.0])\n",
    "plt.title('2-class Precision-Recall curve: AUC={0:0.2f}'.format(\n",
    "          area_under_curve))\n",
    "print(area_under_curve)"
   ]
  },
  {
   "cell_type": "code",
   "execution_count": 24,
   "metadata": {},
   "outputs": [],
   "source": [
    "X_train60_scaled_resampled_no_time = X_train60_scaled_resampled[:,1:(n-1)]\n",
    "X_cv_scaled_no_time = X_cv_scaled[:,1:(n-1)]"
   ]
  },
  {
   "cell_type": "code",
   "execution_count": 25,
   "metadata": {},
   "outputs": [
    {
     "data": {
      "text/plain": [
       "(array([-0.11832264, -0.23782891,  0.09282648, -0.15499859, -0.68273855,\n",
       "         1.34318681,  1.11327093,  0.83359515,  0.03380977,  0.35209188,\n",
       "         0.43018706,  1.45771726,  1.10283356,  0.20637267, -0.25558285,\n",
       "        -0.24237139, -1.54096944,  0.21038567, -2.59976624, -1.41754509,\n",
       "         0.02023391, -0.28251622,  0.38805645,  0.69216932, -3.03169737,\n",
       "        -1.70738748,  0.50788651,  0.02435773, -0.8377755 , -0.20139296]),\n",
       " array([-0.23782891,  0.09282648, -0.15499859, -0.68273855,  1.34318681,\n",
       "         1.11327093,  0.83359515,  0.03380977,  0.35209188,  0.43018706,\n",
       "         1.45771726,  1.10283356,  0.20637267, -0.25558285, -0.24237139,\n",
       "        -1.54096944,  0.21038567, -2.59976624, -1.41754509,  0.02023391,\n",
       "        -0.28251622,  0.38805645,  0.69216932, -3.03169737, -1.70738748,\n",
       "         0.50788651,  0.02435773, -0.8377755 , -0.20139296]),\n",
       " array([-1.23863269,  0.78825009, -0.56936382,  0.09796876, -1.18331917,\n",
       "        -0.66388021, -0.04893156, -0.80814235, -0.16100498, -1.70289981,\n",
       "         1.24491424, -1.38736209, -0.50607958,  2.29517521, -0.78049018,\n",
       "         0.75777527,  0.1722172 , -0.19919785,  0.22352495,  0.33798913,\n",
       "        -0.18690976, -0.61126535, -1.18605084, -0.0440445 , -1.67874616,\n",
       "         0.68480097, -0.68341617,  0.1177646 ,  0.0695946 , -0.23283965]),\n",
       " array([ 0.78825009, -0.56936382,  0.09796876, -1.18331917, -0.66388021,\n",
       "        -0.04893156, -0.80814235, -0.16100498, -1.70289981,  1.24491424,\n",
       "        -1.38736209, -0.50607958,  2.29517521, -0.78049018,  0.75777527,\n",
       "         0.1722172 , -0.19919785,  0.22352495,  0.33798913, -0.18690976,\n",
       "        -0.61126535, -1.18605084, -0.0440445 , -1.67874616,  0.68480097,\n",
       "        -0.68341617,  0.1177646 ,  0.0695946 , -0.23283965]))"
      ]
     },
     "execution_count": 25,
     "metadata": {},
     "output_type": "execute_result"
    }
   ],
   "source": [
    "X_train60_scaled_resampled[0], X_train60_scaled_resampled_no_time[0], X_cv_scaled[0], X_cv_scaled_no_time[0]"
   ]
  },
  {
   "cell_type": "code",
   "execution_count": 26,
   "metadata": {},
   "outputs": [
    {
     "name": "stdout",
     "output_type": "stream",
     "text": [
      "0.8413152768653351\n"
     ]
    },
    {
     "data": {
      "image/png": "[encoded data removed]",
      "text/plain": [
       "<Figure size 432x288 with 1 Axes>"
      ]
     },
     "metadata": {},
     "output_type": "display_data"
    }
   ],
   "source": [
    "KNN = KNeighborsClassifier(n_neighbors=8, p=1) #use best parameters here\n",
    "KNN.fit(X_train60_scaled_resampled_no_time,y_train60_resampled)\n",
    "\n",
    "y_cv_pred_prob = KNN.predict_proba(X_cv_scaled_no_time)[:,1]\n",
    "precision, recall, _ = precision_recall_curve(y_cv, y_cv_pred_prob)\n",
    "area_under_curve = auc(recall,precision)\n",
    "\n",
    "\n",
    "plt.step(recall, precision, color='b', alpha=0.2, where='post')\n",
    "plt.fill_between(recall, precision, step='post', alpha=0.2, color='b')\n",
    "\n",
    "\n",
    "plt.xlabel('Recall')\n",
    "plt.ylabel('Precision')\n",
    "plt.ylim([0.0, 1.05])\n",
    "plt.xlim([0.0, 1.0])\n",
    "plt.title('2-class Precision-Recall curve: AUC={0:0.2f}'.format(\n",
    "          area_under_curve))\n",
    "print(area_under_curve)"
   ]
  },
  {
   "cell_type": "code",
   "execution_count": null,
   "metadata": {},
   "outputs": [],
   "source": []
  }
 ],
 "metadata": {
  "kernelspec": {
   "display_name": "Python 3",
   "language": "python",
   "name": "python3"
  },
  "language_info": {
   "codemirror_mode": {
    "name": "ipython",
    "version": 3
   },
   "file_extension": ".py",
   "mimetype": "text/x-python",
   "name": "python",
   "nbconvert_exporter": "python",
   "pygments_lexer": "ipython3",
   "version": "3.6.3"
  }
 },
 "nbformat": 4,
 "nbformat_minor": 2
}
