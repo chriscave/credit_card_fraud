{
 "cells": [
  {
   "cell_type": "code",
   "execution_count": 1,
   "metadata": {},
   "outputs": [],
   "source": [
    "import numpy as np\n",
    "import pandas as pd\n",
    "from sklearn.preprocessing import StandardScaler\n",
    "import matplotlib.pyplot as plt\n",
    "from sklearn.metrics import precision_recall_curve\n",
    "from sklearn.metrics import average_precision_score\n",
    "from sklearn.metrics import auc\n",
    "from sklearn.metrics import roc_auc_score\n",
    "from sklearn.metrics import recall_score\n",
    "from sklearn.model_selection import StratifiedShuffleSplit\n",
    "from sklearn.linear_model import LogisticRegression\n",
    "from sklearn import model_selection\n",
    "from sklearn.model_selection import GridSearchCV\n",
    "\n",
    "from sklearn.model_selection import StratifiedKFold\n"
   ]
  },
  {
   "cell_type": "code",
   "execution_count": 2,
   "metadata": {},
   "outputs": [],
   "source": [
    "df = pd.read_csv('/home/chris/Documents/Datasets/creditcard.csv')"
   ]
  },
  {
   "cell_type": "code",
   "execution_count": 3,
   "metadata": {},
   "outputs": [],
   "source": [
    "split = StratifiedShuffleSplit(n_splits=1, test_size=0.2, random_state=42)\n",
    "for train_index, test_index in split.split(df, df[\"Class\"]):\n",
    "    train_set = df.loc[train_index]\n",
    "    test_set = df.loc[test_index]\n",
    "\n",
    "train_set = train_set.reset_index(drop = True)\n",
    "credit_card = train_set.copy()\n",
    "\n",
    "splitcv = StratifiedShuffleSplit(n_splits=1, test_size=0.25, random_state=43)\n",
    "for train_index, cv_index in splitcv.split(credit_card, credit_card[\"Class\"]):\n",
    "    train60_set = credit_card.loc[train_index]\n",
    "    cv_set = credit_card.loc[cv_index]\n",
    "    \n",
    "train60_set = train60_set.reset_index(drop = True)\n",
    "cv_set = cv_set.reset_index(drop = True)\n",
    "credit_card60 = train60_set.copy()\n",
    "credit_card_cv = cv_set.copy()"
   ]
  },
  {
   "cell_type": "code",
   "execution_count": 4,
   "metadata": {},
   "outputs": [],
   "source": [
    "m,n = credit_card60.shape\n",
    "X_train60 = credit_card60.iloc[:,0:(n-1)]\n",
    "y_train60 = credit_card60.iloc[:,n-1]\n",
    "X_cv = credit_card_cv.iloc[:,0:(n-1)]\n",
    "y_cv = credit_card_cv.iloc[:,n-1]\n",
    "\n",
    "data = X_train60\n",
    "scaler = StandardScaler()\n",
    "scaler.fit(data)\n",
    "X_train60_scaled = scaler.transform(data)\n",
    "\n",
    "data = X_cv\n",
    "scaler = StandardScaler()\n",
    "scaler.fit(data)\n",
    "X_cv_scaled = scaler.transform(data)"
   ]
  },
  {
   "cell_type": "code",
   "execution_count": 10,
   "metadata": {},
   "outputs": [
    {
     "data": {
      "text/plain": [
       "GridSearchCV(cv=4, error_score='raise',\n",
       "       estimator=LogisticRegression(C=1.0, class_weight=None, dual=False, fit_intercept=True,\n",
       "          intercept_scaling=1, max_iter=100, multi_class='ovr', n_jobs=1,\n",
       "          penalty='l2', random_state=None, solver='liblinear', tol=0.0001,\n",
       "          verbose=0, warm_start=False),\n",
       "       fit_params=None, iid=True, n_jobs=1,\n",
       "       param_grid=[{'penalty': ['l1', 'l2'], 'C': [0.01, 0.03, 0.1, 0.3, 1, 3, 10], 'class_weight': [None, 'balanced']}],\n",
       "       pre_dispatch='2*n_jobs', refit=True, return_train_score='warn',\n",
       "       scoring='average_precision', verbose=0)"
      ]
     },
     "execution_count": 10,
     "metadata": {},
     "output_type": "execute_result"
    }
   ],
   "source": [
    "param_grid = [\n",
    "    {'penalty':['l1', 'l2'], 'C':[0.01,0.03,0.1,0.3,1,3,10], 'class_weight':[None, 'balanced'] }\n",
    "]\n",
    "lgregclf = LogisticRegression()\n",
    "grid_search = GridSearchCV(lgregclf, param_grid,scoring = 'average_precision' ,cv = 4,)\n",
    "grid_search.fit(X_train60_scaled, y_train60)"
   ]
  },
  {
   "cell_type": "code",
   "execution_count": 11,
   "metadata": {},
   "outputs": [
    {
     "data": {
      "text/plain": [
       "({'C': 0.1, 'class_weight': None, 'penalty': 'l2'}, 0.7767037802209503)"
      ]
     },
     "execution_count": 11,
     "metadata": {},
     "output_type": "execute_result"
    }
   ],
   "source": [
    "grid_search.best_params_, grid_search.best_score_"
   ]
  },
  {
   "cell_type": "code",
   "execution_count": 14,
   "metadata": {},
   "outputs": [
    {
     "data": {
      "text/plain": [
       "Text(0.5,1,'2-class Precision-Recall curve: AUC=0.75')"
      ]
     },
     "execution_count": 14,
     "metadata": {},
     "output_type": "execute_result"
    },
    {
     "data": {
      "image/png": "[encoded data removed]",
      "text/plain": [
       "<Figure size 432x288 with 1 Axes>"
      ]
     },
     "metadata": {},
     "output_type": "display_data"
    }
   ],
   "source": [
    "lgregclf = LogisticRegression(C = 0.1) #use best parameters here\n",
    "lgregclf.fit(X_train60_scaled,y_train60)\n",
    "y_cv_pred_prob = lgregclf.predict_proba(X_cv_scaled)\n",
    "\n",
    "precision, recall, threshold = precision_recall_curve(y_cv, y_cv_pred_prob[:,1])\n",
    "area_under_curve = auc(recall,precision)\n",
    "\n",
    "plt.step(recall, precision, color='b', alpha=0.2, where='post')\n",
    "plt.fill_between(recall, precision, step='post', alpha=0.2, color='b')\n",
    "\n",
    "plt.xlabel('Recall')\n",
    "plt.ylabel('Precision')\n",
    "plt.ylim([0.0, 1.05])\n",
    "plt.xlim([0.0, 1.0])\n",
    "plt.title('2-class Precision-Recall curve: AUC={0:0.2f}'.format(\n",
    "          area_under_curve))"
   ]
  },
  {
   "cell_type": "code",
   "execution_count": 15,
   "metadata": {},
   "outputs": [
    {
     "data": {
      "text/plain": [
       "(array([0.00358566, 0.00354957, 0.0035497 , ..., 1.        , 1.        ,\n",
       "        1.        ]),\n",
       " array([1.        , 0.98989899, 0.98989899, ..., 0.02020202, 0.01010101,\n",
       "        0.        ]),\n",
       " array([6.29261670e-04, 6.29305307e-04, 6.29334915e-04, ...,\n",
       "        9.99999978e-01, 9.99999982e-01, 9.99999995e-01]))"
      ]
     },
     "execution_count": 15,
     "metadata": {},
     "output_type": "execute_result"
    }
   ],
   "source": [
    "precision, recall, threshold"
   ]
  },
  {
   "cell_type": "code",
   "execution_count": 28,
   "metadata": {},
   "outputs": [],
   "source": [
    "from imblearn.over_sampling import SMOTE, ADASYN\n",
    "X_60resampled, y_60resampled = SMOTE(random_state=42).fit_sample(X_train60_scaled, y_train60)\n",
    "\n"
   ]
  },
  {
   "cell_type": "code",
   "execution_count": 29,
   "metadata": {},
   "outputs": [
    {
     "data": {
      "text/plain": [
       "(341176, 30)"
      ]
     },
     "execution_count": 29,
     "metadata": {},
     "output_type": "execute_result"
    }
   ],
   "source": [
    "X_60resampled.shape"
   ]
  },
  {
   "cell_type": "code",
   "execution_count": 30,
   "metadata": {},
   "outputs": [
    {
     "data": {
      "text/plain": [
       "Counter({0: 170588, 1: 170588})"
      ]
     },
     "execution_count": 30,
     "metadata": {},
     "output_type": "execute_result"
    }
   ],
   "source": [
    "import collections\n",
    "\n",
    "collections.Counter(y_60resampled)"
   ]
  },
  {
   "cell_type": "code",
   "execution_count": 31,
   "metadata": {},
   "outputs": [
    {
     "data": {
      "text/plain": [
       "GridSearchCV(cv=4, error_score='raise',\n",
       "       estimator=LogisticRegression(C=1.0, class_weight=None, dual=False, fit_intercept=True,\n",
       "          intercept_scaling=1, max_iter=100, multi_class='ovr', n_jobs=1,\n",
       "          penalty='l2', random_state=None, solver='liblinear', tol=0.0001,\n",
       "          verbose=0, warm_start=False),\n",
       "       fit_params=None, iid=True, n_jobs=1,\n",
       "       param_grid=[{'penalty': ['l1', 'l2'], 'C': [0.01, 0.03, 0.1, 0.3, 1, 3, 10], 'class_weight': [None, 'balanced']}],\n",
       "       pre_dispatch='2*n_jobs', refit=True, return_train_score='warn',\n",
       "       scoring='average_precision', verbose=0)"
      ]
     },
     "execution_count": 31,
     "metadata": {},
     "output_type": "execute_result"
    }
   ],
   "source": [
    "grid_search.fit(X_60resampled, y_60resampled)"
   ]
  },
  {
   "cell_type": "code",
   "execution_count": 32,
   "metadata": {},
   "outputs": [
    {
     "data": {
      "text/plain": [
       "({'C': 10, 'class_weight': None, 'penalty': 'l2'}, 0.9907379568802471)"
      ]
     },
     "execution_count": 32,
     "metadata": {},
     "output_type": "execute_result"
    }
   ],
   "source": [
    "grid_search.best_params_, grid_search.best_score_"
   ]
  },
  {
   "cell_type": "code",
   "execution_count": 33,
   "metadata": {},
   "outputs": [
    {
     "data": {
      "text/plain": [
       "Text(0.5,1,'2-class Precision-Recall curve: AUC=0.99')"
      ]
     },
     "execution_count": 33,
     "metadata": {},
     "output_type": "execute_result"
    },
    {
     "data": {
      "image/png": "[encoded data removed]",
      "text/plain": [
       "<Figure size 432x288 with 1 Axes>"
      ]
     },
     "metadata": {},
     "output_type": "display_data"
    }
   ],
   "source": [
    "lgregclf = LogisticRegression(C = 10) #use best parameters here\n",
    "lgregclf.fit(X_60resampled,y_60resampled)\n",
    "y_60resampledpred = lgregclf.predict_proba(X_60resampled)\n",
    "\n",
    "precision, recall, _ = precision_recall_curve(y_60resampled, y_60resampledpred[:,1])\n",
    "area_under_curve = auc(recall,precision)\n",
    "\n",
    "plt.step(recall, precision, color='b', alpha=0.2, where='post')\n",
    "plt.fill_between(recall, precision, step='post', alpha=0.2, color='b')\n",
    "\n",
    "plt.xlabel('Recall')\n",
    "plt.ylabel('Precision')\n",
    "plt.ylim([0.0, 1.05])\n",
    "plt.xlim([0.0, 1.0])\n",
    "plt.title('2-class Precision-Recall curve: AUC={0:0.2f}'.format(\n",
    "          area_under_curve))"
   ]
  },
  {
   "cell_type": "code",
   "execution_count": 34,
   "metadata": {},
   "outputs": [
    {
     "data": {
      "text/plain": [
       "Text(0.5,1,'2-class Precision-Recall curve: AUC=0.77')"
      ]
     },
     "execution_count": 34,
     "metadata": {},
     "output_type": "execute_result"
    },
    {
     "data": {
      "image/png": "[encoded data removed]",
      "text/plain": [
       "<Figure size 432x288 with 1 Axes>"
      ]
     },
     "metadata": {},
     "output_type": "display_data"
    }
   ],
   "source": [
    "lgregclf = LogisticRegression(C = 10) #use best parameters here\n",
    "lgregclf.fit(X_60resampled,y_60resampled)\n",
    "y_cv_pred_prob = lgregclf.predict_proba(X_cv_scaled)\n",
    "\n",
    "precision, recall, _ = precision_recall_curve(y_cv, y_cv_pred_prob[:,1])\n",
    "area_under_curve = auc(recall,precision)\n",
    "\n",
    "plt.step(recall, precision, color='b', alpha=0.2, where='post')\n",
    "plt.fill_between(recall, precision, step='post', alpha=0.2, color='b')\n",
    "\n",
    "plt.xlabel('Recall')\n",
    "plt.ylabel('Precision')\n",
    "plt.ylim([0.0, 1.05])\n",
    "plt.xlim([0.0, 1.0])\n",
    "plt.title('2-class Precision-Recall curve: AUC={0:0.2f}'.format(\n",
    "          area_under_curve))"
   ]
  },
  {
   "cell_type": "code",
   "execution_count": 35,
   "metadata": {},
   "outputs": [],
   "source": [
    "X_train60_cnn_resampled = np.loadtxt(\"/home/chris/Documents/ml/credit-card-fraud/cnntrain60.csv\",delimiter=\",\")\n",
    "y_train60_cnn_resampled = np.loadtxt(\"/home/chris/Documents/ml/credit-card-fraud/cnnlabel60.csv\",delimiter=\",\")"
   ]
  },
  {
   "cell_type": "code",
   "execution_count": 36,
   "metadata": {},
   "outputs": [
    {
     "data": {
      "text/plain": [
       "GridSearchCV(cv=4, error_score='raise',\n",
       "       estimator=LogisticRegression(C=1.0, class_weight=None, dual=False, fit_intercept=True,\n",
       "          intercept_scaling=1, max_iter=100, multi_class='ovr', n_jobs=1,\n",
       "          penalty='l2', random_state=None, solver='liblinear', tol=0.0001,\n",
       "          verbose=0, warm_start=False),\n",
       "       fit_params=None, iid=True, n_jobs=1,\n",
       "       param_grid=[{'penalty': ['l1', 'l2'], 'C': [0.01, 0.03, 0.1, 0.3, 1, 3, 10], 'class_weight': [None, 'balanced']}],\n",
       "       pre_dispatch='2*n_jobs', refit=True, return_train_score='warn',\n",
       "       scoring='average_precision', verbose=0)"
      ]
     },
     "execution_count": 36,
     "metadata": {},
     "output_type": "execute_result"
    }
   ],
   "source": [
    "grid_search.fit(X_train60_cnn_resampled,y_train60_cnn_resampled)"
   ]
  },
  {
   "cell_type": "code",
   "execution_count": 37,
   "metadata": {},
   "outputs": [
    {
     "data": {
      "text/plain": [
       "({'C': 1, 'class_weight': None, 'penalty': 'l1'}, 0.8979726547369691)"
      ]
     },
     "execution_count": 37,
     "metadata": {},
     "output_type": "execute_result"
    }
   ],
   "source": [
    "grid_search.best_params_, grid_search.best_score_"
   ]
  },
  {
   "cell_type": "code",
   "execution_count": 38,
   "metadata": {},
   "outputs": [
    {
     "data": {
      "text/plain": [
       "Text(0.5,1,'2-class Precision-Recall curve: AUC=0.70')"
      ]
     },
     "execution_count": 38,
     "metadata": {},
     "output_type": "execute_result"
    },
    {
     "data": {
      "image/png": "[encoded data removed]",
      "text/plain": [
       "<Figure size 432x288 with 1 Axes>"
      ]
     },
     "metadata": {},
     "output_type": "display_data"
    }
   ],
   "source": [
    "lgregclf = LogisticRegression(C = 1, penalty='l1') #use best parameters here\n",
    "lgregclf.fit(X_train60_cnn_resampled,y_train60_cnn_resampled)\n",
    "y_cv_pred_prob = lgregclf.predict_proba(X_cv_scaled)\n",
    "\n",
    "precision, recall, _ = precision_recall_curve(y_cv, y_cv_pred_prob[:,1])\n",
    "area_under_curve = auc(recall,precision)\n",
    "\n",
    "plt.step(recall, precision, color='b', alpha=0.2, where='post')\n",
    "plt.fill_between(recall, precision, step='post', alpha=0.2, color='b')\n",
    "\n",
    "plt.xlabel('Recall')\n",
    "plt.ylabel('Precision')\n",
    "plt.ylim([0.0, 1.05])\n",
    "plt.xlim([0.0, 1.0])\n",
    "plt.title('2-class Precision-Recall curve: AUC={0:0.2f}'.format(\n",
    "          area_under_curve))"
   ]
  },
  {
   "cell_type": "code",
   "execution_count": 39,
   "metadata": {},
   "outputs": [],
   "source": [
    "X_60resampled_no_time = X_60resampled[:,1:(n-1)]\n",
    "X_cv_scaled_no_time = X_cv_scaled[:,1:(n-1)]"
   ]
  },
  {
   "cell_type": "code",
   "execution_count": 40,
   "metadata": {},
   "outputs": [
    {
     "data": {
      "text/plain": [
       "(array([ 0.55451644, -0.73729517,  0.65582381, -0.26777598, -1.2671365 ,\n",
       "        -0.33164039, -0.76361424, -0.02745097, -0.1220131 ,  0.40512635,\n",
       "        -0.53078457, -0.39436145,  0.40266163, -0.74641093,  0.39511698,\n",
       "         1.37316369,  0.3619038 , -1.20490236,  0.50735757,  0.48378449,\n",
       "         0.52940318,  1.23450342, -0.37281662,  0.75257466,  0.79226016,\n",
       "        -0.13053482,  0.05931106,  0.15328343,  0.25355433]),\n",
       " array([-1.07948521,  0.55451644, -0.73729517,  0.65582381, -0.26777598,\n",
       "        -1.2671365 , -0.33164039, -0.76361424, -0.02745097, -0.1220131 ,\n",
       "         0.40512635, -0.53078457, -0.39436145,  0.40266163, -0.74641093,\n",
       "         0.39511698,  1.37316369,  0.3619038 , -1.20490236,  0.50735757,\n",
       "         0.48378449,  0.52940318,  1.23450342, -0.37281662,  0.75257466,\n",
       "         0.79226016, -0.13053482,  0.05931106,  0.15328343,  0.25355433]),\n",
       " array([ 0.78825009, -0.56936382,  0.09796876, -1.18331917, -0.66388021,\n",
       "        -0.04893156, -0.80814235, -0.16100498, -1.70289981,  1.24491424,\n",
       "        -1.38736209, -0.50607958,  2.29517521, -0.78049018,  0.75777527,\n",
       "         0.1722172 , -0.19919785,  0.22352495,  0.33798913, -0.18690976,\n",
       "        -0.61126535, -1.18605084, -0.0440445 , -1.67874616,  0.68480097,\n",
       "        -0.68341617,  0.1177646 ,  0.0695946 , -0.23283965]),\n",
       " array([-1.23863269,  0.78825009, -0.56936382,  0.09796876, -1.18331917,\n",
       "        -0.66388021, -0.04893156, -0.80814235, -0.16100498, -1.70289981,\n",
       "         1.24491424, -1.38736209, -0.50607958,  2.29517521, -0.78049018,\n",
       "         0.75777527,  0.1722172 , -0.19919785,  0.22352495,  0.33798913,\n",
       "        -0.18690976, -0.61126535, -1.18605084, -0.0440445 , -1.67874616,\n",
       "         0.68480097, -0.68341617,  0.1177646 ,  0.0695946 , -0.23283965]))"
      ]
     },
     "execution_count": 40,
     "metadata": {},
     "output_type": "execute_result"
    }
   ],
   "source": [
    "X_60resampled_no_time[0], X_60resampled[0], X_cv_scaled_no_time[0], X_cv_scaled[0]"
   ]
  },
  {
   "cell_type": "code",
   "execution_count": 41,
   "metadata": {},
   "outputs": [
    {
     "data": {
      "text/plain": [
       "Text(0.5,1,'2-class Precision-Recall curve: AUC=0.77')"
      ]
     },
     "execution_count": 41,
     "metadata": {},
     "output_type": "execute_result"
    },
    {
     "data": {
      "image/png": "[encoded data removed]",
      "text/plain": [
       "<Figure size 432x288 with 1 Axes>"
      ]
     },
     "metadata": {},
     "output_type": "display_data"
    }
   ],
   "source": [
    "lgregclf = LogisticRegression(C = 10) #use best parameters here\n",
    "lgregclf.fit(X_60resampled_no_time,y_60resampled)\n",
    "y_cv_pred_prob = lgregclf.predict_proba(X_cv_scaled_no_time)\n",
    "\n",
    "precision, recall, _ = precision_recall_curve(y_cv, y_cv_pred_prob[:,1])\n",
    "area_under_curve = auc(recall,precision)\n",
    "\n",
    "plt.step(recall, precision, color='b', alpha=0.2, where='post')\n",
    "plt.fill_between(recall, precision, step='post', alpha=0.2, color='b')\n",
    "\n",
    "plt.xlabel('Recall')\n",
    "plt.ylabel('Precision')\n",
    "plt.ylim([0.0, 1.05])\n",
    "plt.xlim([0.0, 1.0])\n",
    "plt.title('2-class Precision-Recall curve: AUC={0:0.2f}'.format(\n",
    "          area_under_curve))"
   ]
  },
  {
   "cell_type": "code",
   "execution_count": null,
   "metadata": {},
   "outputs": [],
   "source": []
  }
 ],
 "metadata": {
  "kernelspec": {
   "display_name": "Python 3",
   "language": "python",
   "name": "python3"
  },
  "language_info": {
   "codemirror_mode": {
    "name": "ipython",
    "version": 3
   },
   "file_extension": ".py",
   "mimetype": "text/x-python",
   "name": "python",
   "nbconvert_exporter": "python",
   "pygments_lexer": "ipython3",
   "version": "3.6.3"
  }
 },
 "nbformat": 4,
 "nbformat_minor": 2
}
