{
 "cells": [
  {
   "cell_type": "code",
   "execution_count": 1,
   "metadata": {},
   "outputs": [],
   "source": [
    "import numpy as np\n",
    "import pandas as pd\n",
    "from sklearn.neighbors import KNeighborsClassifier\n",
    "from sklearn.preprocessing import StandardScaler\n",
    "from sklearn.discriminant_analysis import LinearDiscriminantAnalysis\n",
    "from sklearn.linear_model import LogisticRegression\n",
    "\n",
    "import matplotlib.pyplot as plt\n",
    "from sklearn.metrics import precision_recall_curve\n",
    "from sklearn.metrics import average_precision_score\n",
    "from sklearn.metrics import auc\n",
    "from sklearn.metrics import roc_auc_score\n",
    "from sklearn.metrics import recall_score\n",
    "from sklearn.model_selection import StratifiedShuffleSplit\n",
    "\n",
    "from sklearn import model_selection\n",
    "\n",
    "\n",
    "from sklearn.model_selection import StratifiedKFold"
   ]
  },
  {
   "cell_type": "code",
   "execution_count": 12,
   "metadata": {},
   "outputs": [],
   "source": [
    "df = pd.read_csv('/home/chris/Documents/Datasets/creditcard.csv')"
   ]
  },
  {
   "cell_type": "code",
   "execution_count": 13,
   "metadata": {},
   "outputs": [],
   "source": [
    "split = StratifiedShuffleSplit(n_splits=1, test_size=0.2, random_state=42)\n",
    "for train_index, test_index in split.split(df, df[\"Class\"]):\n",
    "    train_set = df.loc[train_index]\n",
    "    test_set = df.loc[test_index]\n",
    "\n",
    "train_set = train_set.reset_index(drop = True)\n",
    "credit_card = train_set.copy()\n",
    "\n",
    "splitcv = StratifiedShuffleSplit(n_splits=1, test_size=0.25, random_state=43)\n",
    "for train_index, cv_index in splitcv.split(credit_card, credit_card[\"Class\"]):\n",
    "    train60_set = credit_card.loc[train_index]\n",
    "    cv_set = credit_card.loc[cv_index]\n",
    "    \n",
    "train60_set = train60_set.reset_index(drop = True)\n",
    "cv_set = cv_set.reset_index(drop = True)\n",
    "credit_card60 = train60_set.copy()\n",
    "credit_card_cv = cv_set.copy()"
   ]
  },
  {
   "cell_type": "code",
   "execution_count": 14,
   "metadata": {},
   "outputs": [],
   "source": [
    "m,n = credit_card.shape\n",
    "X_train = credit_card.iloc[:,0:(n-1)]\n",
    "y_train = credit_card.iloc[:,n-1]\n",
    "\n",
    "data = X_train\n",
    "scaler = StandardScaler()\n",
    "scaler.fit(data)\n",
    "X_train_scaled = scaler.transform(data)"
   ]
  },
  {
   "cell_type": "code",
   "execution_count": 15,
   "metadata": {},
   "outputs": [],
   "source": [
    "m,n = credit_card60.shape\n",
    "X_train60 = credit_card60.iloc[:,0:(n-1)]\n",
    "y_train60 = credit_card60.iloc[:,n-1]\n",
    "X_cv = credit_card_cv.iloc[:,0:(n-1)]\n",
    "y_cv = credit_card_cv.iloc[:,n-1]\n",
    "\n",
    "data = X_train60\n",
    "scaler = StandardScaler()\n",
    "scaler.fit(data)\n",
    "X_train60_scaled = scaler.transform(data)\n",
    "\n",
    "data = X_cv\n",
    "scaler = StandardScaler()\n",
    "scaler.fit(data)\n",
    "X_cv_scaled = scaler.transform(data)"
   ]
  },
  {
   "cell_type": "code",
   "execution_count": 7,
   "metadata": {},
   "outputs": [],
   "source": [
    "X_train60_cnn_resampled = np.loadtxt(\"/home/chris/Documents/ml/credit-card-fraud/cnntrain60.csv\",delimiter=\",\")\n",
    "y_train60_cnn_resampled = np.loadtxt(\"/home/chris/Documents/ml/credit-card-fraud/cnnlabel60.csv\",delimiter=\",\")"
   ]
  },
  {
   "cell_type": "code",
   "execution_count": 8,
   "metadata": {},
   "outputs": [
    {
     "data": {
      "text/plain": [
       "((1150, 30), (1150,))"
      ]
     },
     "execution_count": 8,
     "metadata": {},
     "output_type": "execute_result"
    }
   ],
   "source": [
    "X_train60_cnn_resampled.shape, y_train60_cnn_resampled.shape"
   ]
  },
  {
   "cell_type": "code",
   "execution_count": 10,
   "metadata": {},
   "outputs": [
    {
     "data": {
      "text/plain": [
       "array([-0.11832264, -0.23782891,  0.09282648, -0.15499859, -0.68273855,\n",
       "        1.34318681,  1.11327093,  0.83359515,  0.03380977,  0.35209188,\n",
       "        0.43018706,  1.45771726,  1.10283356,  0.20637267, -0.25558285,\n",
       "       -0.24237139, -1.54096944,  0.21038567, -2.59976624, -1.41754509,\n",
       "        0.02023391, -0.28251622,  0.38805645,  0.69216932, -3.03169737,\n",
       "       -1.70738748,  0.50788651,  0.02435773, -0.8377755 , -0.20139296])"
      ]
     },
     "execution_count": 10,
     "metadata": {},
     "output_type": "execute_result"
    }
   ],
   "source": [
    "X_train60_cnn_resampled[0]"
   ]
  },
  {
   "cell_type": "code",
   "execution_count": 11,
   "metadata": {},
   "outputs": [
    {
     "data": {
      "text/plain": [
       "Counter({0.0: 855, 1.0: 295})"
      ]
     },
     "execution_count": 11,
     "metadata": {},
     "output_type": "execute_result"
    }
   ],
   "source": [
    "import collections\n",
    "\n",
    "collections.Counter(y_train60_cnn_resampled)"
   ]
  },
  {
   "cell_type": "code",
   "execution_count": 17,
   "metadata": {},
   "outputs": [],
   "source": [
    "from imblearn.over_sampling import SMOTE, ADASYN\n",
    "X_60SMOTEresampled, y_60SMOTEresampled = SMOTE(random_state=42).fit_sample(X_train60_scaled, y_train60)"
   ]
  },
  {
   "cell_type": "code",
   "execution_count": 18,
   "metadata": {},
   "outputs": [
    {
     "data": {
      "text/plain": [
       "LinearDiscriminantAnalysis(n_components=None, priors=None, shrinkage=None,\n",
       "              solver='svd', store_covariance=False, tol=0.0001)"
      ]
     },
     "execution_count": 18,
     "metadata": {},
     "output_type": "execute_result"
    }
   ],
   "source": [
    "KNN = KNeighborsClassifier(n_neighbors=8, p=1)\n",
    "KNN.fit(X_train60_cnn_resampled,y_train60_cnn_resampled)\n",
    "\n",
    "lgregclf = LogisticRegression(C = 10)\n",
    "lgregclf.fit(X_60SMOTEresampled,y_60SMOTEresampled)\n",
    "\n",
    "ldaclf = LinearDiscriminantAnalysis()\n",
    "ldaclf.fit(X_train60_scaled,y_train60)\n"
   ]
  },
  {
   "cell_type": "code",
   "execution_count": 19,
   "metadata": {},
   "outputs": [],
   "source": [
    "y_cv_pred_probKNN = KNN.predict_proba(X_cv_scaled)[:,1]\n",
    "y_cv_pred_probLR = lgregclf.predict_proba(X_cv_scaled)[:,1]\n",
    "y_cv_pred_probLDA = ldaclf.predict_proba(X_cv_scaled)[:,1]\n"
   ]
  },
  {
   "cell_type": "code",
   "execution_count": 20,
   "metadata": {},
   "outputs": [],
   "source": [
    "y_cv_pred_prob = (y_cv_pred_probKNN + y_cv_pred_probLDA + y_cv_pred_probLR) / 3"
   ]
  },
  {
   "cell_type": "code",
   "execution_count": 23,
   "metadata": {},
   "outputs": [
    {
     "data": {
      "text/plain": [
       "(0.0013620205554544372, 0.0, 3.6612940922649575e-152, 0.004086061666363312)"
      ]
     },
     "execution_count": 23,
     "metadata": {},
     "output_type": "execute_result"
    }
   ],
   "source": [
    "y_cv_pred_prob[0], y_cv_pred_probKNN[0], y_cv_pred_probLDA[0], y_cv_pred_probLR[0]"
   ]
  },
  {
   "cell_type": "code",
   "execution_count": 24,
   "metadata": {},
   "outputs": [
    {
     "name": "stdout",
     "output_type": "stream",
     "text": [
      "0.8484841232375151\n"
     ]
    },
    {
     "data": {
      "image/png": "[encoded data removed]",
      "text/plain": [
       "<Figure size 432x288 with 1 Axes>"
      ]
     },
     "metadata": {},
     "output_type": "display_data"
    }
   ],
   "source": [
    "precision, recall, _ = precision_recall_curve(y_cv, y_cv_pred_prob)\n",
    "area_under_curve = auc(recall,precision)\n",
    "\n",
    "\n",
    "plt.step(recall, precision, color='b', alpha=0.2, where='post')\n",
    "plt.fill_between(recall, precision, step='post', alpha=0.2, color='b')\n",
    "\n",
    "\n",
    "plt.xlabel('Recall')\n",
    "plt.ylabel('Precision')\n",
    "plt.ylim([0.0, 1.05])\n",
    "plt.xlim([0.0, 1.0])\n",
    "plt.title('2-class Precision-Recall curve: AUC={0:0.2f}'.format(\n",
    "          area_under_curve))\n",
    "print(area_under_curve)"
   ]
  },
  {
   "cell_type": "code",
   "execution_count": 25,
   "metadata": {},
   "outputs": [],
   "source": [
    "X_train60_cnn_resampled_no_time = X_train60_cnn_resampled[:,1:(n-1)]\n",
    "X_60SMOTEresampled_no_time = X_60SMOTEresampled[:,1:(n-1)]\n",
    "X_train60_scaled_no_time = X_train60_scaled[:,1:(n-1)]\n",
    "X_cv_scaled_no_time = X_cv_scaled[:,1:(n-1)]"
   ]
  },
  {
   "cell_type": "code",
   "execution_count": 26,
   "metadata": {},
   "outputs": [
    {
     "data": {
      "text/plain": [
       "LinearDiscriminantAnalysis(n_components=None, priors=None, shrinkage=None,\n",
       "              solver='svd', store_covariance=False, tol=0.0001)"
      ]
     },
     "execution_count": 26,
     "metadata": {},
     "output_type": "execute_result"
    }
   ],
   "source": [
    "KNN = KNeighborsClassifier(n_neighbors=8, p=1)\n",
    "KNN.fit(X_train60_cnn_resampled_no_time,y_train60_cnn_resampled)\n",
    "\n",
    "lgregclf = LogisticRegression(C = 10)\n",
    "lgregclf.fit(X_60SMOTEresampled_no_time,y_60SMOTEresampled)\n",
    "\n",
    "ldaclf = LinearDiscriminantAnalysis()\n",
    "ldaclf.fit(X_train60_scaled_no_time,y_train60)"
   ]
  },
  {
   "cell_type": "code",
   "execution_count": 27,
   "metadata": {},
   "outputs": [],
   "source": [
    "y_cv_pred_probKNN_no_time = KNN.predict_proba(X_cv_scaled_no_time)[:,1]\n",
    "y_cv_pred_probLR_no_time = lgregclf.predict_proba(X_cv_scaled_no_time)[:,1]\n",
    "y_cv_pred_probLDA_no_time = ldaclf.predict_proba(X_cv_scaled_no_time)[:,1]"
   ]
  },
  {
   "cell_type": "code",
   "execution_count": 28,
   "metadata": {},
   "outputs": [],
   "source": [
    "y_cv_pred_prob_no_time = (y_cv_pred_probKNN + y_cv_pred_probLDA + y_cv_pred_probLR) / 3"
   ]
  },
  {
   "cell_type": "code",
   "execution_count": 29,
   "metadata": {},
   "outputs": [
    {
     "name": "stdout",
     "output_type": "stream",
     "text": [
      "0.8484841232375151\n"
     ]
    },
    {
     "data": {
      "image/png": "[encoded data removed]",
      "text/plain": [
       "<Figure size 432x288 with 1 Axes>"
      ]
     },
     "metadata": {},
     "output_type": "display_data"
    }
   ],
   "source": [
    "precision, recall, _ = precision_recall_curve(y_cv, y_cv_pred_prob_no_time)\n",
    "area_under_curve = auc(recall,precision)\n",
    "\n",
    "\n",
    "plt.step(recall, precision, color='b', alpha=0.2, where='post')\n",
    "plt.fill_between(recall, precision, step='post', alpha=0.2, color='b')\n",
    "\n",
    "\n",
    "plt.xlabel('Recall')\n",
    "plt.ylabel('Precision')\n",
    "plt.ylim([0.0, 1.05])\n",
    "plt.xlim([0.0, 1.0])\n",
    "plt.title('2-class Precision-Recall curve: AUC={0:0.2f}'.format(\n",
    "          area_under_curve))\n",
    "print(area_under_curve)"
   ]
  },
  {
   "cell_type": "code",
   "execution_count": null,
   "metadata": {},
   "outputs": [],
   "source": []
  }
 ],
 "metadata": {
  "kernelspec": {
   "display_name": "Python 3",
   "language": "python",
   "name": "python3"
  },
  "language_info": {
   "codemirror_mode": {
    "name": "ipython",
    "version": 3
   },
   "file_extension": ".py",
   "mimetype": "text/x-python",
   "name": "python",
   "nbconvert_exporter": "python",
   "pygments_lexer": "ipython3",
   "version": "3.6.3"
  }
 },
 "nbformat": 4,
 "nbformat_minor": 2
}
